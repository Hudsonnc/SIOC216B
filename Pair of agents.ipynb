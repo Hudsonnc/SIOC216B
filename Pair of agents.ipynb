{
 "cells": [
  {
   "cell_type": "code",
   "execution_count": 153,
   "metadata": {
    "collapsed": true
   },
   "outputs": [],
   "source": [
    "import numpy as np\n",
    "from scipy.integrate import ode\n",
    "import scipy\n",
    "from matplotlib import pyplot as plt\n",
    "%matplotlib inline"
   ]
  },
  {
   "cell_type": "code",
   "execution_count": 2,
   "metadata": {},
   "outputs": [],
   "source": [
    "import sys\n",
    "sys.path.append('/home/hudson/Projects/SIOC 216/lib') \n",
    "from lib.params import *\n",
    "from lib.moving_average import *\n",
    "from lib.utils import *"
   ]
  },
  {
   "cell_type": "code",
   "execution_count": 294,
   "metadata": {},
   "outputs": [],
   "source": [
    "N = 2\n",
    "a = genA(N)\n",
    "b = genB(N)\n",
    "alpha = genAlpha(N)\n",
    "beta = genBeta(N)\n",
    "\n",
    "#FILLER SINCE WE FORGOT TO DEFINE THE DISTRIBUTION \n",
    "c_star = np.ones((N,N)) * np.inf\n",
    "\n",
    "#Time constant\n",
    "tau = 10\n",
    "\n",
    "#BOOLEAN CONNECTIVITY MATRIX\n",
    "#Q = np.ones((N,N)) #fully connected, for now\n",
    "Q = scipy.sparse.random(N, N, .5, data_rvs=np.random.randn).A"
   ]
  },
  {
   "cell_type": "code",
   "execution_count": 295,
   "metadata": {},
   "outputs": [],
   "source": [
    "#CONSTANT PARAMETERS FOR NOW\n",
    "k = .25 #Spring constant\n",
    "eta = 1 + np.random.randn(N) * np.sqrt(.1)\n",
    "c = eta * 2 * np.sqrt(k) #Damping coefficient\n",
    "\n",
    "#Wf?\n",
    "Wf = np.ones(N) #np.random.randn(N)\n",
    "def model(t, y, forces):\n",
    "    #scipy solver takes input as a single vector.\n",
    "    # We want to handle as two vectors so we split y in half\n",
    "    n = int(len(y) / 2)\n",
    "    x = y[:n]\n",
    "    v = y[n:]\n",
    "    \n",
    "    #Passed forces\n",
    "    I = forces['I']\n",
    "    F = forces['F']\n",
    "    noise = forces['noise']\n",
    "    \n",
    "    #Differential equation part\n",
    "    dxdt = v\n",
    "    dvdt = -k*x -c*v + I/np.sqrt(N) + np.dot(Wf,F) + noise\n",
    "    \n",
    "    #Since we split y in half we have to concatenate dxdt and dvdt \n",
    "    # into single vector\n",
    "    f = np.array([dxdt, dvdt]).flatten()\n",
    "    return(f)"
   ]
  },
  {
   "cell_type": "code",
   "execution_count": 317,
   "metadata": {},
   "outputs": [],
   "source": [
    "#Forcing function\n",
    "F = lambda t: 0 #1 if t < 10 and t > 8 else np.cos(t) if t > 20 else 0\n",
    "\n",
    "#time\n",
    "tstop = 25\n",
    "dt = .1\n",
    "\n",
    "#Initial values\n",
    "y0 = np.random.randn(2*N)# np.zeros(2*N) \n",
    "\n",
    "# Set up ode solver\n",
    "solver = ode(model)\n",
    "solver.set_initial_value(y0)\n",
    "\n",
    "#Loop through ode solver and get values as you go\n",
    "t = [0]\n",
    "y = [y0]\n",
    "\n",
    "# For updating forces\n",
    "forces = {}\n",
    "\n",
    "#solver.successful ensures ode does not blow up\n",
    "# solver.t < t1 sets maximmum simulation length\n",
    "while solver.successful() and solver.t < tstop:  \n",
    "    \n",
    "    #Book-keeping\n",
    "    x = y[-1][:N]\n",
    "            \n",
    "    #THESE VARIANCES, ETC SHOULD BE BASED ON f(x), NOT x?\n",
    "    if t[-1] == 0:\n",
    "        mean_x = x\n",
    "        var_x = np.zeros(N)\n",
    "        cov_xx = np.zeros((N,N))\n",
    "        fx = np.zeros((N,N))\n",
    "        W = np.random.randn(N,N) #np.zeros((N,N))\n",
    "    else:\n",
    "        mean_x = avgnext(mean_x, x, tau)\n",
    "        var_x = varnext(var_x, mean_x, x, tau)\n",
    "        for i in range(N):\n",
    "            for j in range(N):\n",
    "                cov_xx[i,j] = covnext(cov_xx[i,j], \n",
    "                                      mean_x[i], x[i],\n",
    "                                      mean_x[j], x[j], tau)\n",
    "    for i in range(N):\n",
    "        for j in range(N):\n",
    "            if i != j:\n",
    "                fx[i,j] = f_ij(x[j], mean_x[j], var_x[j], \n",
    "                               alpha[i], beta[i], c_star[i,j])\n",
    "            else:\n",
    "                fx[i,j] = 0\n",
    "    for i in range(N):\n",
    "        for j in range(N):\n",
    "            W[i,j] = Q[i,j] * w_ij(var_x[j], cov_xx[i,j],\n",
    "                                   a[i], b[i])\n",
    "    \n",
    "    forces['I'] = np.multiply(W, fx).sum(axis=1)\n",
    "    forces['F'] = F(t[-1])\n",
    "    forces['noise'] = 0 #.5*np.random.randn(N) if np.random.randn(1) > .6 else 0\n",
    "    \n",
    "    solver.set_f_params(forces)\n",
    "    \n",
    "    #t.t + dt is current time + dt\n",
    "    solver.integrate(solver.t+dt)\n",
    "    #record output t and y\n",
    "    t.append(solver.t)\n",
    "    y.append(solver.y)"
   ]
  },
  {
   "cell_type": "code",
   "execution_count": 318,
   "metadata": {},
   "outputs": [
    {
     "data": {
      "text/plain": [
       "[<matplotlib.lines.Line2D at 0x7f779ce70e10>,\n",
       " <matplotlib.lines.Line2D at 0x7f779ce70fd0>]"
      ]
     },
     "execution_count": 318,
     "metadata": {},
     "output_type": "execute_result"
    },
    {
     "data": {
      "image/png": "[encoded data removed]",
      "text/plain": [
       "<matplotlib.figure.Figure at 0x7f779ced6550>"
      ]
     },
     "metadata": {},
     "output_type": "display_data"
    }
   ],
   "source": [
    "plt.plot(t,np.array(y)[:,:N])"
   ]
  },
  {
   "cell_type": "code",
   "execution_count": 319,
   "metadata": {},
   "outputs": [
    {
     "data": {
      "text/plain": [
       "[<matplotlib.lines.Line2D at 0x7f779cdf3b70>,\n",
       " <matplotlib.lines.Line2D at 0x7f779cdf3d68>]"
      ]
     },
     "execution_count": 319,
     "metadata": {},
     "output_type": "execute_result"
    },
    {
     "data": {
      "image/png": "[encoded data removed]",
      "text/plain": [
       "<matplotlib.figure.Figure at 0x7f779ce045f8>"
      ]
     },
     "metadata": {},
     "output_type": "display_data"
    }
   ],
   "source": [
    "plt.plot(t,np.array(y)[:,N:])"
   ]
  },
  {
   "cell_type": "code",
   "execution_count": 284,
   "metadata": {},
   "outputs": [
    {
     "data": {
      "text/plain": [
       "[<matplotlib.lines.Line2D at 0x7f779d9ac6d8>]"
      ]
     },
     "execution_count": 284,
     "metadata": {},
     "output_type": "execute_result"
    },
    {
     "data": {
      "image/png": "[encoded data removed]",
      "text/plain": [
       "<matplotlib.figure.Figure at 0x7f779d9cab38>"
      ]
     },
     "metadata": {},
     "output_type": "display_data"
    }
   ],
   "source": [
    "plt.plot(t,[F(ti) for ti in t])"
   ]
  }
 ],
 "metadata": {
  "anaconda-cloud": {},
  "kernelspec": {
   "display_name": "Python [conda root]",
   "language": "python",
   "name": "conda-root-py"
  },
  "language_info": {
   "codemirror_mode": {
    "name": "ipython",
    "version": 3
   },
   "file_extension": ".py",
   "mimetype": "text/x-python",
   "name": "python",
   "nbconvert_exporter": "python",
   "pygments_lexer": "ipython3",
   "version": "3.6.0"
  }
 },
 "nbformat": 4,
 "nbformat_minor": 2
}
