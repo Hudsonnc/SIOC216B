{
 "cells": [
  {
   "cell_type": "code",
   "execution_count": 1,
   "metadata": {
    "collapsed": true
   },
   "outputs": [],
   "source": [
    "import numpy as np\n",
    "from scipy.integrate import ode\n",
    "import scipy\n",
    "from matplotlib import pyplot as plt\n",
    "%matplotlib inline"
   ]
  },
  {
   "cell_type": "code",
   "execution_count": 2,
   "metadata": {
    "collapsed": true
   },
   "outputs": [],
   "source": [
    "import sys\n",
    "sys.path.append('/home/hudson/Projects/SIOC 216/lib') \n",
    "from lib.params import *\n",
    "from lib.moving_average import *\n",
    "from lib.utils import *"
   ]
  },
  {
   "cell_type": "code",
   "execution_count": 231,
   "metadata": {
    "collapsed": true
   },
   "outputs": [],
   "source": [
    "N = 2\n",
    "a = genA(N)\n",
    "b = genB(N)\n",
    "alpha = genAlpha(N)\n",
    "beta = genBeta(N)\n",
    "\n",
    "#FILLER SINCE WE FORGOT TO DEFINE THE DISTRIBUTION \n",
    "c_star = np.ones((N,N)) * np.inf\n",
    "\n",
    "\n",
    "#BOOLEAN CONNECTIVITY MATRIX\n",
    "Q = np.ones((N,N)) #fully connected, for now\n",
    "# Q = scipy.sparse.random(N, N, .5) \n",
    "# Q.data[:] = 1\n",
    "# Q = Q.A"
   ]
  },
  {
   "cell_type": "code",
   "execution_count": 250,
   "metadata": {
    "collapsed": true
   },
   "outputs": [],
   "source": [
    "#Time constant\n",
    "tau = 10 * 20"
   ]
  },
  {
   "cell_type": "code",
   "execution_count": 233,
   "metadata": {
    "collapsed": true
   },
   "outputs": [],
   "source": [
    "#CONSTANT PARAMETERS FOR NOW\n",
    "k = .25 #Spring constant\n",
    "eta = 1 #+ np.random.randn(N) * np.sqrt(.1) #Damping ratio\n",
    "c = eta * 2 * np.sqrt(k) #Damping coefficient\n",
    "\n",
    "#Wf?\n",
    "Wf = np.zeros(N) #np.random.randn(N)\n",
    "Wf[0] = 1\n",
    "def model(t, y, forces):\n",
    "    #scipy solver takes input as a single vector.\n",
    "    # We want to handle as two vectors so we split y in half\n",
    "    n = int(len(y) / 2)\n",
    "    x = y[:n]\n",
    "    v = y[n:]\n",
    "    \n",
    "    #Passed forces\n",
    "    I = forces['I']\n",
    "    F = forces['F']\n",
    "    noise = forces['noise']\n",
    "    \n",
    "    #Differential equation part\n",
    "    dxdt = v\n",
    "    dvdt = -k*x -c*v + I/np.sqrt(N) + np.dot(Wf,F) + noise\n",
    "    \n",
    "    #Since we split y in half we have to concatenate dxdt and dvdt \n",
    "    # into single vector\n",
    "    f = np.array([dxdt, dvdt]).flatten()\n",
    "    return(f)"
   ]
  },
  {
   "cell_type": "code",
   "execution_count": 261,
   "metadata": {},
   "outputs": [],
   "source": [
    "#Forcing function\n",
    "F = lambda t: 1 if t < 10 and t > 8 else 0\n",
    "\n",
    "#time\n",
    "tstop = 60\n",
    "dt = .1\n",
    "\n",
    "#Initial values\n",
    "y0 = np.random.randn(2*N)# np.zeros(2*N) \n",
    "\n",
    "# Set up ode solver\n",
    "solver = ode(model)\n",
    "solver.set_initial_value(y0)\n",
    "\n",
    "#Loop through ode solver and get values as you go\n",
    "t = [0]\n",
    "y = [y0]\n",
    "\n",
    "WIJ = []\n",
    "\n",
    "# For updating forces\n",
    "forces = {}\n",
    "\n",
    "#solver.successful ensures ode does not blow up\n",
    "# solver.t < t1 sets maximmum simulation length\n",
    "while solver.successful() and solver.t < tstop:  \n",
    "    \n",
    "    #Book-keeping\n",
    "    x = y[-1][:N]\n",
    "            \n",
    "    #THESE VARIANCES, ETC SHOULD BE BASED ON f(x), NOT x?\n",
    "    if t[-1] == 0:\n",
    "        mean_x = np.zeros(N)\n",
    "        var_x = (x - mean_x)**2\n",
    "        cov_xx = np.outer((x - mean_x), (x - mean_x))\n",
    "        fx = np.zeros((N,N))\n",
    "        W = np.zeros((N,N))\n",
    "    else:\n",
    "        mean_x = avgnext(mean_x, x, tau)\n",
    "        var_x = varnext(var_x, mean_x, x, tau)\n",
    "        for i in range(N):\n",
    "            for j in range(N):\n",
    "                cov_xx[i,j] = covnext(cov_xx[i,j], \n",
    "                                      mean_x[i], x[i],\n",
    "                                      mean_x[j], x[j], tau)\n",
    "    for i in range(N):\n",
    "        for j in range(N):\n",
    "            if i != j:\n",
    "                fx[i,j] = f_ij(x[j], mean_x[j], var_x[j], \n",
    "                               alpha[i], beta[i], c_star[i,j])\n",
    "            else:\n",
    "                fx[i,j] = 0\n",
    "    for i in range(N):\n",
    "        for j in range(N):\n",
    "            if i != j:\n",
    "                W[i,j] = Q[i,j] * w_ij(var_x[j], cov_xx[i,j],\n",
    "                                       a[i], b[i])\n",
    "            else:\n",
    "                W[i,j] = 0\n",
    "    WIJ.append(np.copy(W))\n",
    "    \n",
    "    forces['I'] = np.multiply(W, fx).sum(axis=1)\n",
    "    forces['F'] = F(t[-1])\n",
    "    forces['noise'] = 0 #.5*np.random.randn(N) if np.random.randn(1) > .6 else 0\n",
    "    \n",
    "    solver.set_f_params(forces)\n",
    "    \n",
    "    #t.t + dt is current time + dt\n",
    "    solver.integrate(solver.t+dt)\n",
    "    #record output t and y\n",
    "    t.append(solver.t)\n",
    "    y.append(solver.y)"
   ]
  },
  {
   "cell_type": "code",
   "execution_count": 262,
   "metadata": {},
   "outputs": [
    {
     "data": {
      "text/plain": [
       "<matplotlib.text.Text at 0x7f49196e86a0>"
      ]
     },
     "execution_count": 262,
     "metadata": {},
     "output_type": "execute_result"
    },
    {
     "data": {
      "image/png": "[encoded data removed]",
      "text/plain": [
       "<matplotlib.figure.Figure at 0x7f4919513358>"
      ]
     },
     "metadata": {},
     "output_type": "display_data"
    }
   ],
   "source": [
    "fig, axes = plt.subplots(3, 1)\n",
    "fig.tight_layout(pad=0.4, w_pad=0.5, h_pad=3.0)\n",
    "\n",
    "axes[0].plot(t, [F(ti) for ti in t])\n",
    "axes[0].set_title('External Forcing')\n",
    "axes[0].set_ylabel('F')\n",
    "axes[0].set_xlabel('t')\n",
    "\n",
    "axes[1].plot(t, np.array(y)[:,:N])\n",
    "axes[1].set_title('Perceived Happiness')\n",
    "axes[1].set_ylabel('x')\n",
    "axes[1].set_xlabel('t')\n",
    "\n",
    "axes[2].plot(t, np.array(y)[:,N:])\n",
    "axes[2].set_title('Actual Happiness')\n",
    "axes[2].set_ylabel('v')\n",
    "axes[2].set_xlabel('t')\n",
    "    \n",
    "    "
   ]
  },
  {
   "cell_type": "code",
   "execution_count": 263,
   "metadata": {},
   "outputs": [
    {
     "data": {
      "text/plain": [
       "array([-0.10787338,  0.98454291])"
      ]
     },
     "execution_count": 263,
     "metadata": {},
     "output_type": "execute_result"
    }
   ],
   "source": [
    "a"
   ]
  },
  {
   "cell_type": "code",
   "execution_count": 264,
   "metadata": {},
   "outputs": [
    {
     "data": {
      "text/plain": [
       "array([-0.96410708,  0.93019138])"
      ]
     },
     "execution_count": 264,
     "metadata": {},
     "output_type": "execute_result"
    }
   ],
   "source": [
    "b"
   ]
  },
  {
   "cell_type": "code",
   "execution_count": 265,
   "metadata": {},
   "outputs": [
    {
     "data": {
      "text/plain": [
       "<matplotlib.legend.Legend at 0x7f491952f470>"
      ]
     },
     "execution_count": 265,
     "metadata": {},
     "output_type": "execute_result"
    },
    {
     "data": {
      "image/png": "[encoded data removed]",
      "text/plain": [
       "<matplotlib.figure.Figure at 0x7f491952ce48>"
      ]
     },
     "metadata": {},
     "output_type": "display_data"
    }
   ],
   "source": [
    "for i in range(N):\n",
    "    for j in range(N):\n",
    "        if i != j:\n",
    "            plt.plot(t[1:], np.array(WIJ)[:, i, j], label = 'w_%s%s' %(i, j))\n",
    "plt.legend()"
   ]
  }
 ],
 "metadata": {
  "anaconda-cloud": {},
  "kernelspec": {
   "display_name": "Python [conda root]",
   "language": "python",
   "name": "conda-root-py"
  },
  "language_info": {
   "codemirror_mode": {
    "name": "ipython",
    "version": 3
   },
   "file_extension": ".py",
   "mimetype": "text/x-python",
   "name": "python",
   "nbconvert_exporter": "python",
   "pygments_lexer": "ipython3",
   "version": "3.6.0"
  }
 },
 "nbformat": 4,
 "nbformat_minor": 2
}
