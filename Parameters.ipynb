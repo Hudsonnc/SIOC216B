{
 "cells": [
  {
   "cell_type": "code",
   "execution_count": 22,
   "metadata": {
    "collapsed": true
   },
   "outputs": [],
   "source": [
    "import numpy as np\n",
    "from matplotlib import pyplot as plt\n",
    "%matplotlib inline"
   ]
  },
  {
   "cell_type": "code",
   "execution_count": 28,
   "metadata": {
    "collapsed": true
   },
   "outputs": [],
   "source": [
    "N = 10000"
   ]
  },
  {
   "cell_type": "markdown",
   "metadata": {},
   "source": [
    "# a"
   ]
  },
  {
   "cell_type": "code",
   "execution_count": 29,
   "metadata": {
    "collapsed": true
   },
   "outputs": [],
   "source": [
    "PEMPATHY = 1/3\n",
    "PUNCOMFORTABLE = 1/3\n",
    "PAPATHY = 1/3\n",
    "\n",
    "AMEANEMPATHY = 1\n",
    "ASTDEMPATHY = .2\n",
    "AMEANUNCOMFORTABLE = -1\n",
    "ASTDEVUNCOMFORTABLE = 0.2\n",
    "AMEANAPATHETIC = 0\n",
    "ASTDEVAPATHETIC = 0.2"
   ]
  },
  {
   "cell_type": "code",
   "execution_count": 30,
   "metadata": {},
   "outputs": [],
   "source": [
    "AMIN = AMEANUNCOMFORTABLE - 3*ASTDEVUNCOMFORTABLE\n",
    "AMAX = AMEANEMPATHY + 3*ASTDEMPATHY"
   ]
  },
  {
   "cell_type": "code",
   "execution_count": 31,
   "metadata": {},
   "outputs": [],
   "source": [
    "a = np.empty(N)\n",
    "for i in range(N):\n",
    "    choice = np.random.choice(3, p = [PEMPATHY, PUNCOMFORTABLE, PAPATHY])\n",
    "    if choice == 0:\n",
    "        mu = AMEANEMPATHY\n",
    "        sig = ASTDEMPATHY\n",
    "    elif choice == 1:\n",
    "        mu = AMEANUNCOMFORTABLE\n",
    "        sig = ASTDEVUNCOMFORTABLE\n",
    "    else:\n",
    "        mu = AMEANAPATHETIC\n",
    "        sig = ASTDEVAPATHETIC\n",
    "    val = np.random.normal(mu, sig, 1)\n",
    "    while val < AMIN or val > AMAX:\n",
    "        val = np.random.normal(mu, sig, 1)\n",
    "    a[i] = val"
   ]
  },
  {
   "cell_type": "code",
   "execution_count": 33,
   "metadata": {
    "scrolled": false
   },
   "outputs": [
    {
     "data": {
      "text/plain": [
       "(array([   4.,    6.,   10.,    8.,   12.,   30.,   31.,   46.,   49.,\n",
       "          73.,   95.,  122.,  128.,  151.,  174.,  182.,  218.,  213.,\n",
       "         204.,  198.,  214.,  161.,  161.,  152.,  131.,  121.,  104.,\n",
       "          77.,   61.,   44.,   45.,   29.,   15.,   17.,   16.,   22.,\n",
       "          19.,   32.,   45.,   52.,   81.,   89.,  107.,  140.,  152.,\n",
       "         168.,  188.,  184.,  201.,  190.,  213.,  184.,  203.,  179.,\n",
       "         175.,  138.,  128.,   95.,   78.,   67.,   49.,   61.,   32.,\n",
       "          26.,   13.,   23.,   26.,   19.,   35.,   37.,   48.,   55.,\n",
       "          82.,   83.,  104.,  142.,  157.,  171.,  181.,  190.,  238.,\n",
       "         202.,  238.,  187.,  185.,  182.,  157.,  139.,  112.,  103.,\n",
       "          82.,   58.,   47.,   34.,   15.,   22.,   11.,    8.,   11.,    3.]),\n",
       " array([ -1.58997107e+00,  -1.55818300e+00,  -1.52639493e+00,\n",
       "         -1.49460686e+00,  -1.46281879e+00,  -1.43103072e+00,\n",
       "         -1.39924265e+00,  -1.36745458e+00,  -1.33566651e+00,\n",
       "         -1.30387844e+00,  -1.27209037e+00,  -1.24030230e+00,\n",
       "         -1.20851423e+00,  -1.17672616e+00,  -1.14493809e+00,\n",
       "         -1.11315002e+00,  -1.08136196e+00,  -1.04957389e+00,\n",
       "         -1.01778582e+00,  -9.85997747e-01,  -9.54209677e-01,\n",
       "         -9.22421608e-01,  -8.90633538e-01,  -8.58845468e-01,\n",
       "         -8.27057399e-01,  -7.95269329e-01,  -7.63481260e-01,\n",
       "         -7.31693190e-01,  -6.99905120e-01,  -6.68117051e-01,\n",
       "         -6.36328981e-01,  -6.04540912e-01,  -5.72752842e-01,\n",
       "         -5.40964773e-01,  -5.09176703e-01,  -4.77388633e-01,\n",
       "         -4.45600564e-01,  -4.13812494e-01,  -3.82024425e-01,\n",
       "         -3.50236355e-01,  -3.18448286e-01,  -2.86660216e-01,\n",
       "         -2.54872146e-01,  -2.23084077e-01,  -1.91296007e-01,\n",
       "         -1.59507938e-01,  -1.27719868e-01,  -9.59317985e-02,\n",
       "         -6.41437289e-02,  -3.23556594e-02,  -5.67589794e-04,\n",
       "          3.12204798e-02,   6.30085494e-02,   9.47966189e-02,\n",
       "          1.26584689e-01,   1.58372758e-01,   1.90160828e-01,\n",
       "          2.21948897e-01,   2.53736967e-01,   2.85525036e-01,\n",
       "          3.17313106e-01,   3.49101176e-01,   3.80889245e-01,\n",
       "          4.12677315e-01,   4.44465384e-01,   4.76253454e-01,\n",
       "          5.08041523e-01,   5.39829593e-01,   5.71617663e-01,\n",
       "          6.03405732e-01,   6.35193802e-01,   6.66981871e-01,\n",
       "          6.98769941e-01,   7.30558010e-01,   7.62346080e-01,\n",
       "          7.94134150e-01,   8.25922219e-01,   8.57710289e-01,\n",
       "          8.89498358e-01,   9.21286428e-01,   9.53074498e-01,\n",
       "          9.84862567e-01,   1.01665064e+00,   1.04843871e+00,\n",
       "          1.08022678e+00,   1.11201485e+00,   1.14380291e+00,\n",
       "          1.17559098e+00,   1.20737905e+00,   1.23916712e+00,\n",
       "          1.27095519e+00,   1.30274326e+00,   1.33453133e+00,\n",
       "          1.36631940e+00,   1.39810747e+00,   1.42989554e+00,\n",
       "          1.46168361e+00,   1.49347168e+00,   1.52525975e+00,\n",
       "          1.55704782e+00,   1.58883589e+00]),\n",
       " <a list of 100 Patch objects>)"
      ]
     },
     "execution_count": 33,
     "metadata": {},
     "output_type": "execute_result"
    },
    {
     "data": {
      "image/png": "[encoded data removed]",
      "text/plain": [
       "<matplotlib.figure.Figure at 0x7f2f4f55f400>"
      ]
     },
     "metadata": {},
     "output_type": "display_data"
    }
   ],
   "source": [
    "plt.hist(a, 100)"
   ]
  },
  {
   "cell_type": "markdown",
   "metadata": {},
   "source": [
    "# b"
   ]
  },
  {
   "cell_type": "code",
   "execution_count": 34,
   "metadata": {
    "collapsed": true
   },
   "outputs": [],
   "source": [
    "PESCALATE = 1/2\n",
    "PDEESCALATE = 1/2\n",
    "\n",
    "BMEANESCALATE = 1\n",
    "BSTDEVESCALATE = 0.2\n",
    "BMEANDEESCALATE = -1\n",
    "BSTDEVDEESCALATE = 0.2"
   ]
  },
  {
   "cell_type": "code",
   "execution_count": 35,
   "metadata": {
    "collapsed": true
   },
   "outputs": [],
   "source": [
    "BMIN = BMEANDEESCALATE - 3*BSTDEVDEESCALATE\n",
    "BMAX = BMEANESCALATE + 3*BSTDEVESCALATE"
   ]
  },
  {
   "cell_type": "code",
   "execution_count": 37,
   "metadata": {},
   "outputs": [],
   "source": [
    "b = np.empty(N)\n",
    "for i in range(N):\n",
    "    choice = np.random.choice(2, p = [PESCALATE, PDEESCALATE])\n",
    "    if choice == 0:\n",
    "        mu = BMEANESCALATE\n",
    "        sig = BSTDEVESCALATE\n",
    "    else:\n",
    "        mu = BMEANDEESCALATE\n",
    "        sig = BSTDEVDEESCALATE\n",
    "    val = np.random.normal(mu, sig, 1)\n",
    "    while val < BMIN or val > BMAX:\n",
    "        val = np.random.normal(mu, sig, 1)\n",
    "    b[i] = val"
   ]
  },
  {
   "cell_type": "code",
   "execution_count": 38,
   "metadata": {},
   "outputs": [
    {
     "data": {
      "text/plain": [
       "(array([   3.,    7.,   19.,   18.,   24.,   30.,   48.,   66.,   93.,\n",
       "         105.,  138.,  161.,  166.,  213.,  236.,  278.,  291.,  342.,\n",
       "         347.,  328.,  297.,  316.,  256.,  218.,  216.,  160.,  134.,\n",
       "         113.,   96.,   92.,   66.,   30.,   34.,   20.,   13.,    5.,\n",
       "           7.,    4.,    5.,    1.,    2.,    0.,    0.,    0.,    0.,\n",
       "           0.,    0.,    0.,    0.,    0.,    0.,    0.,    0.,    0.,\n",
       "           0.,    0.,    0.,    0.,    0.,    1.,    0.,    1.,    1.,\n",
       "           2.,   10.,    9.,   18.,   20.,   26.,   51.,   61.,   91.,\n",
       "         122.,  138.,  158.,  198.,  226.,  252.,  317.,  321.,  279.,\n",
       "         300.,  295.,  346.,  280.,  276.,  268.,  192.,  172.,  149.,\n",
       "         108.,   74.,   71.,   62.,   35.,   27.,   12.,   13.,   12.,    8.]),\n",
       " array([-1.59704411, -1.56522023, -1.53339635, -1.50157247, -1.4697486 ,\n",
       "        -1.43792472, -1.40610084, -1.37427696, -1.34245308, -1.3106292 ,\n",
       "        -1.27880532, -1.24698145, -1.21515757, -1.18333369, -1.15150981,\n",
       "        -1.11968593, -1.08786205, -1.05603818, -1.0242143 , -0.99239042,\n",
       "        -0.96056654, -0.92874266, -0.89691878, -0.8650949 , -0.83327103,\n",
       "        -0.80144715, -0.76962327, -0.73779939, -0.70597551, -0.67415163,\n",
       "        -0.64232775, -0.61050388, -0.57868   , -0.54685612, -0.51503224,\n",
       "        -0.48320836, -0.45138448, -0.4195606 , -0.38773673, -0.35591285,\n",
       "        -0.32408897, -0.29226509, -0.26044121, -0.22861733, -0.19679345,\n",
       "        -0.16496958, -0.1331457 , -0.10132182, -0.06949794, -0.03767406,\n",
       "        -0.00585018,  0.02597369,  0.05779757,  0.08962145,  0.12144533,\n",
       "         0.15326921,  0.18509309,  0.21691697,  0.24874084,  0.28056472,\n",
       "         0.3123886 ,  0.34421248,  0.37603636,  0.40786024,  0.43968412,\n",
       "         0.47150799,  0.50333187,  0.53515575,  0.56697963,  0.59880351,\n",
       "         0.63062739,  0.66245127,  0.69427514,  0.72609902,  0.7579229 ,\n",
       "         0.78974678,  0.82157066,  0.85339454,  0.88521842,  0.91704229,\n",
       "         0.94886617,  0.98069005,  1.01251393,  1.04433781,  1.07616169,\n",
       "         1.10798556,  1.13980944,  1.17163332,  1.2034572 ,  1.23528108,\n",
       "         1.26710496,  1.29892884,  1.33075271,  1.36257659,  1.39440047,\n",
       "         1.42622435,  1.45804823,  1.48987211,  1.52169599,  1.55351986,\n",
       "         1.58534374]),\n",
       " <a list of 100 Patch objects>)"
      ]
     },
     "execution_count": 38,
     "metadata": {},
     "output_type": "execute_result"
    },
    {
     "data": {
      "image/png": "[encoded data removed]",
      "text/plain": [
       "<matplotlib.figure.Figure at 0x7f2f4f3e5f28>"
      ]
     },
     "metadata": {},
     "output_type": "display_data"
    }
   ],
   "source": [
    "plt.hist(b, 100)"
   ]
  },
  {
   "cell_type": "markdown",
   "metadata": {},
   "source": [
    "# alpha"
   ]
  },
  {
   "cell_type": "code",
   "execution_count": 48,
   "metadata": {
    "collapsed": true
   },
   "outputs": [],
   "source": [
    "ALPHAMEAN = 1\n",
    "ALPHASTDEV = .2"
   ]
  },
  {
   "cell_type": "code",
   "execution_count": 49,
   "metadata": {
    "collapsed": true
   },
   "outputs": [],
   "source": [
    "ALPHAMIN = max(0,ALPHAMEAN - 3*ALPHASTDEV);\n",
    "ALPHAMAX = ALPHAMEAN + 3*ALPHASTDEV;"
   ]
  },
  {
   "cell_type": "code",
   "execution_count": 50,
   "metadata": {},
   "outputs": [],
   "source": [
    "alpha = np.empty(N)\n",
    "for i in range(N):\n",
    "    mu = ALPHAMEAN\n",
    "    sig = ALPHASTDEV\n",
    "    val = np.random.normal(mu, sig, 1)\n",
    "    while val < ALPHAMIN or val > ALPHAMAX:\n",
    "        val = np.random.normal(mu, sig, 1)\n",
    "    alpha[i] = val"
   ]
  },
  {
   "cell_type": "code",
   "execution_count": 51,
   "metadata": {
    "scrolled": false
   },
   "outputs": [
    {
     "data": {
      "text/plain": [
       "(array([   4.,    2.,    4.,    5.,    6.,    8.,    8.,    8.,   15.,\n",
       "          16.,   18.,   18.,   23.,   25.,   17.,   22.,   27.,   21.,\n",
       "          39.,   50.,   61.,   68.,   74.,   55.,   71.,   88.,  110.,\n",
       "          97.,   88.,  106.,  122.,  123.,  149.,  119.,  136.,  171.,\n",
       "         185.,  163.,  204.,  190.,  189.,  208.,  199.,  220.,  254.,\n",
       "         223.,  226.,  246.,  245.,  228.,  235.,  253.,  248.,  218.,\n",
       "         239.,  232.,  229.,  203.,  210.,  213.,  180.,  167.,  188.,\n",
       "         184.,  168.,  187.,  129.,  153.,  131.,  103.,  116.,  113.,\n",
       "         110.,   84.,   74.,   69.,   83.,   69.,   63.,   50.,   41.,\n",
       "          34.,   32.,   35.,   22.,   28.,   11.,   27.,   20.,   23.,\n",
       "          11.,   17.,    5.,    8.,    8.,    7.,    4.,    4.,    2.,    6.]),\n",
       " array([ 0.40003788,  0.41198909,  0.42394029,  0.4358915 ,  0.4478427 ,\n",
       "         0.45979391,  0.47174511,  0.48369632,  0.49564752,  0.50759873,\n",
       "         0.51954993,  0.53150114,  0.54345234,  0.55540355,  0.56735475,\n",
       "         0.57930595,  0.59125716,  0.60320836,  0.61515957,  0.62711077,\n",
       "         0.63906198,  0.65101318,  0.66296439,  0.67491559,  0.6868668 ,\n",
       "         0.698818  ,  0.71076921,  0.72272041,  0.73467162,  0.74662282,\n",
       "         0.75857403,  0.77052523,  0.78247644,  0.79442764,  0.80637885,\n",
       "         0.81833005,  0.83028126,  0.84223246,  0.85418367,  0.86613487,\n",
       "         0.87808608,  0.89003728,  0.90198848,  0.91393969,  0.92589089,\n",
       "         0.9378421 ,  0.9497933 ,  0.96174451,  0.97369571,  0.98564692,\n",
       "         0.99759812,  1.00954933,  1.02150053,  1.03345174,  1.04540294,\n",
       "         1.05735415,  1.06930535,  1.08125656,  1.09320776,  1.10515897,\n",
       "         1.11711017,  1.12906138,  1.14101258,  1.15296379,  1.16491499,\n",
       "         1.1768662 ,  1.1888174 ,  1.20076861,  1.21271981,  1.22467101,\n",
       "         1.23662222,  1.24857342,  1.26052463,  1.27247583,  1.28442704,\n",
       "         1.29637824,  1.30832945,  1.32028065,  1.33223186,  1.34418306,\n",
       "         1.35613427,  1.36808547,  1.38003668,  1.39198788,  1.40393909,\n",
       "         1.41589029,  1.4278415 ,  1.4397927 ,  1.45174391,  1.46369511,\n",
       "         1.47564632,  1.48759752,  1.49954873,  1.51149993,  1.52345114,\n",
       "         1.53540234,  1.54735355,  1.55930475,  1.57125595,  1.58320716,\n",
       "         1.59515836]),\n",
       " <a list of 100 Patch objects>)"
      ]
     },
     "execution_count": 51,
     "metadata": {},
     "output_type": "execute_result"
    },
    {
     "data": {
      "image/png": "[encoded data removed]",
      "text/plain": [
       "<matplotlib.figure.Figure at 0x7f2f4ed0d5f8>"
      ]
     },
     "metadata": {},
     "output_type": "display_data"
    }
   ],
   "source": [
    "plt.hist(alpha, 100)"
   ]
  },
  {
   "cell_type": "markdown",
   "metadata": {},
   "source": [
    "# beta"
   ]
  },
  {
   "cell_type": "code",
   "execution_count": 52,
   "metadata": {
    "collapsed": true
   },
   "outputs": [],
   "source": [
    "BETAMEAN = 1\n",
    "BETASTDEV = .2"
   ]
  },
  {
   "cell_type": "code",
   "execution_count": 53,
   "metadata": {
    "collapsed": true
   },
   "outputs": [],
   "source": [
    "BETAMIN = max(0,BETAMEAN - 3*BETASTDEV);\n",
    "BETAMAX = BETAMEAN + 3*BETASTDEV;"
   ]
  },
  {
   "cell_type": "code",
   "execution_count": 54,
   "metadata": {
    "collapsed": true
   },
   "outputs": [],
   "source": [
    "beta = np.empty(N)\n",
    "for i in range(N):\n",
    "    mu = BETAMEAN\n",
    "    sig = BETASTDEV\n",
    "    val = np.random.normal(mu, sig, 1)\n",
    "    while val < BETAMIN or val > BETAMAX:\n",
    "        val = np.random.normal(mu, sig, 1)\n",
    "    beta[i] = val"
   ]
  },
  {
   "cell_type": "code",
   "execution_count": 55,
   "metadata": {
    "scrolled": false
   },
   "outputs": [
    {
     "data": {
      "text/plain": [
       "(array([   2.,    4.,    6.,    5.,    4.,    5.,    3.,   14.,   12.,\n",
       "          19.,   17.,   14.,   19.,   19.,   32.,   34.,   27.,   32.,\n",
       "          41.,   39.,   39.,   53.,   49.,   72.,   56.,   94.,   82.,\n",
       "         102.,  102.,  121.,  103.,  122.,  157.,  152.,  170.,  152.,\n",
       "         193.,  179.,  174.,  199.,  222.,  191.,  216.,  259.,  243.,\n",
       "         232.,  231.,  257.,  246.,  212.,  251.,  238.,  212.,  229.,\n",
       "         219.,  234.,  235.,  230.,  202.,  193.,  168.,  198.,  168.,\n",
       "         169.,  173.,  155.,  136.,  143.,  110.,  127.,   98.,  120.,\n",
       "         104.,   96.,   90.,   79.,   59.,   74.,   65.,   52.,   48.,\n",
       "          50.,   30.,   28.,   33.,   29.,   23.,   13.,   16.,   14.,\n",
       "           6.,   12.,    8.,    4.,    1.,   13.,    2.,    5.,    3.,    7.]),\n",
       " array([ 0.40042205,  0.41237105,  0.42432005,  0.43626905,  0.44821805,\n",
       "         0.46016705,  0.47211605,  0.48406506,  0.49601406,  0.50796306,\n",
       "         0.51991206,  0.53186106,  0.54381006,  0.55575906,  0.56770806,\n",
       "         0.57965706,  0.59160606,  0.60355506,  0.61550406,  0.62745306,\n",
       "         0.63940206,  0.65135106,  0.66330006,  0.67524906,  0.68719806,\n",
       "         0.69914706,  0.71109606,  0.72304506,  0.73499406,  0.74694306,\n",
       "         0.75889206,  0.77084106,  0.78279007,  0.79473907,  0.80668807,\n",
       "         0.81863707,  0.83058607,  0.84253507,  0.85448407,  0.86643307,\n",
       "         0.87838207,  0.89033107,  0.90228007,  0.91422907,  0.92617807,\n",
       "         0.93812707,  0.95007607,  0.96202507,  0.97397407,  0.98592307,\n",
       "         0.99787207,  1.00982107,  1.02177007,  1.03371907,  1.04566807,\n",
       "         1.05761707,  1.06956607,  1.08151508,  1.09346408,  1.10541308,\n",
       "         1.11736208,  1.12931108,  1.14126008,  1.15320908,  1.16515808,\n",
       "         1.17710708,  1.18905608,  1.20100508,  1.21295408,  1.22490308,\n",
       "         1.23685208,  1.24880108,  1.26075008,  1.27269908,  1.28464808,\n",
       "         1.29659708,  1.30854608,  1.32049508,  1.33244408,  1.34439308,\n",
       "         1.35634208,  1.36829108,  1.38024008,  1.39218909,  1.40413809,\n",
       "         1.41608709,  1.42803609,  1.43998509,  1.45193409,  1.46388309,\n",
       "         1.47583209,  1.48778109,  1.49973009,  1.51167909,  1.52362809,\n",
       "         1.53557709,  1.54752609,  1.55947509,  1.57142409,  1.58337309,\n",
       "         1.59532209]),\n",
       " <a list of 100 Patch objects>)"
      ]
     },
     "execution_count": 55,
     "metadata": {},
     "output_type": "execute_result"
    },
    {
     "data": {
      "image/png": "[encoded data removed]",
      "text/plain": [
       "<matplotlib.figure.Figure at 0x7f2f4eb51c50>"
      ]
     },
     "metadata": {},
     "output_type": "display_data"
    }
   ],
   "source": [
    "plt.hist(beta, 100)"
   ]
  },
  {
   "cell_type": "code",
   "execution_count": null,
   "metadata": {
    "collapsed": true
   },
   "outputs": [],
   "source": []
  }
 ],
 "metadata": {
  "kernelspec": {
   "display_name": "Python [conda root]",
   "language": "python",
   "name": "conda-root-py"
  },
  "language_info": {
   "codemirror_mode": {
    "name": "ipython",
    "version": 3
   },
   "file_extension": ".py",
   "mimetype": "text/x-python",
   "name": "python",
   "nbconvert_exporter": "python",
   "pygments_lexer": "ipython3",
   "version": "3.6.0"
  }
 },
 "nbformat": 4,
 "nbformat_minor": 2
}
